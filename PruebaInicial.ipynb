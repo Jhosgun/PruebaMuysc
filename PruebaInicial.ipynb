{
 "cells": [
  {
   "cell_type": "code",
   "execution_count": 4,
   "metadata": {},
   "outputs": [],
   "source": [
    "# Importación de librerías\n",
    "\n",
    "import Muysc\n",
    "import numpy as np\n",
    "import math\n",
    "import matplotlib.pyplot as plt\n",
    "from matplotlib import cm\n",
    "from matplotlib.ticker import MaxNLocator\n",
    "from scipy import signal\n",
    "import matplotlib as mpl\n",
    "from srtm import Srtm1HeightMapCollection\n",
    "srtm1_data = Srtm1HeightMapCollection()"
   ]
  },
  {
   "cell_type": "code",
   "execution_count": 6,
   "metadata": {},
   "outputs": [],
   "source": [
    "# Linux\n",
    "#!export SRTM1_DIR=/home/jorge/Desktop/PruebaMuysc/TopographyData\n",
    "# Windows\n",
    "!SET SRTM1_DIR=C:/Users/Jorge/Desktop/PruebaMuysc/TopographyData/"
   ]
  },
  {
   "cell_type": "code",
   "execution_count": 7,
   "metadata": {},
   "outputs": [
    {
     "ename": "FileNotFoundError",
     "evalue": "[Errno 2] No such file or directory: 'TopographyData\\\\N04W076.SRTMGL1.hgt.zip'",
     "output_type": "error",
     "traceback": [
      "\u001b[1;31m---------------------------------------------------------------------------\u001b[0m",
      "\u001b[1;31mFileNotFoundError\u001b[0m                         Traceback (most recent call last)",
      "\u001b[1;32mc:\\Users\\Jorge\\Desktop\\PruebaMuysc\\PruebaInicial.ipynb Celda 3\u001b[0m in \u001b[0;36m<cell line: 13>\u001b[1;34m()\u001b[0m\n\u001b[0;32m     <a href='vscode-notebook-cell:/c%3A/Users/Jorge/Desktop/PruebaMuysc/PruebaInicial.ipynb#W2sZmlsZQ%3D%3D?line=10'>11</a>\u001b[0m \u001b[39m# Indicar la ruta donde se guardaran los datos descargados .zip\u001b[39;00m\n\u001b[0;32m     <a href='vscode-notebook-cell:/c%3A/Users/Jorge/Desktop/PruebaMuysc/PruebaInicial.ipynb#W2sZmlsZQ%3D%3D?line=11'>12</a>\u001b[0m a\u001b[39m.\u001b[39mdownloadData(path)\n\u001b[1;32m---> <a href='vscode-notebook-cell:/c%3A/Users/Jorge/Desktop/PruebaMuysc/PruebaInicial.ipynb#W2sZmlsZQ%3D%3D?line=12'>13</a>\u001b[0m a\u001b[39m.\u001b[39;49melevation()\n\u001b[0;32m     <a href='vscode-notebook-cell:/c%3A/Users/Jorge/Desktop/PruebaMuysc/PruebaInicial.ipynb#W2sZmlsZQ%3D%3D?line=13'>14</a>\u001b[0m a\u001b[39m.\u001b[39mpointView(P1,RefPoint)\n\u001b[0;32m     <a href='vscode-notebook-cell:/c%3A/Users/Jorge/Desktop/PruebaMuysc/PruebaInicial.ipynb#W2sZmlsZQ%3D%3D?line=14'>15</a>\u001b[0m a\u001b[39m.\u001b[39mplot_lines(cenit,azimut)  \n",
      "File \u001b[1;32mc:\\Users\\Jorge\\Desktop\\PruebaMuysc\\Muysc.py:199\u001b[0m, in \u001b[0;36mMute.elevation\u001b[1;34m(self)\u001b[0m\n\u001b[0;32m    197\u001b[0m \u001b[39mfor\u001b[39;00m i \u001b[39min\u001b[39;00m \u001b[39mrange\u001b[39m(\u001b[39mself\u001b[39m\u001b[39m.\u001b[39mpoints):\n\u001b[0;32m    198\u001b[0m     \u001b[39mfor\u001b[39;00m j \u001b[39min\u001b[39;00m \u001b[39mrange\u001b[39m(\u001b[39mself\u001b[39m\u001b[39m.\u001b[39mpoints):\n\u001b[1;32m--> 199\u001b[0m         lisZ[i][j]\u001b[39m=\u001b[39msrtm1_data\u001b[39m.\u001b[39;49mget_altitude(latitude\u001b[39m=\u001b[39;49mlisLat[i], longitude\u001b[39m=\u001b[39;49mlisLong[j])\n\u001b[0;32m    200\u001b[0m \u001b[39mself\u001b[39m\u001b[39m.\u001b[39mlisZ \u001b[39m=\u001b[39m lisZ\n",
      "File \u001b[1;32mc:\\Users\\Jorge\\AppData\\Local\\Programs\\Python\\Python310\\lib\\site-packages\\srtm\\height_map_collection.py:75\u001b[0m, in \u001b[0;36mHeightMapCollection.get_altitude\u001b[1;34m(self, latitude, longitude)\u001b[0m\n\u001b[0;32m     73\u001b[0m \u001b[39m\"\"\"Get the height of the given latitude and longitude\"\"\"\u001b[39;00m\n\u001b[0;32m     74\u001b[0m height_map \u001b[39m=\u001b[39m \u001b[39mself\u001b[39m\u001b[39m.\u001b[39mget_height_map_for_latitude_and_longitude(latitude, longitude)\n\u001b[1;32m---> 75\u001b[0m \u001b[39mreturn\u001b[39;00m height_map\u001b[39m.\u001b[39;49mget_altitude_for_latitude_and_longitude(latitude, longitude)\n",
      "File \u001b[1;32mc:\\Users\\Jorge\\AppData\\Local\\Programs\\Python\\Python310\\lib\\site-packages\\srtm\\height_maps.py:84\u001b[0m, in \u001b[0;36mHeightMap.get_altitude_for_latitude_and_longitude\u001b[1;34m(self, latitude, longitude)\u001b[0m\n\u001b[0;32m     82\u001b[0m \u001b[39m\"\"\"Get the height at the given lat/lng\"\"\"\u001b[39;00m\n\u001b[0;32m     83\u001b[0m x, y \u001b[39m=\u001b[39m \u001b[39mself\u001b[39m\u001b[39m.\u001b[39m_latitude_and_longitude_to_coordinates(latitude, longitude)\n\u001b[1;32m---> 84\u001b[0m \u001b[39mreturn\u001b[39;00m \u001b[39mself\u001b[39;49m\u001b[39m.\u001b[39;49mget_altitude_for_pixel(x, y)\n",
      "File \u001b[1;32mc:\\Users\\Jorge\\AppData\\Local\\Programs\\Python\\Python310\\lib\\site-packages\\srtm\\height_maps.py:68\u001b[0m, in \u001b[0;36mHeightMap.get_altitude_for_pixel\u001b[1;34m(self, x, y)\u001b[0m\n\u001b[0;32m     63\u001b[0m \u001b[39mdef\u001b[39;00m \u001b[39mget_altitude_for_pixel\u001b[39m(\u001b[39mself\u001b[39m, x, y) \u001b[39m-\u001b[39m\u001b[39m>\u001b[39m \u001b[39mint\u001b[39m:\n\u001b[0;32m     64\u001b[0m     \u001b[39m\"\"\"Get the height at the given pixel\u001b[39;00m\n\u001b[0;32m     65\u001b[0m \n\u001b[0;32m     66\u001b[0m \u001b[39m    Will trigger loading of data\u001b[39;00m\n\u001b[0;32m     67\u001b[0m \u001b[39m    \"\"\"\u001b[39;00m\n\u001b[1;32m---> 68\u001b[0m     \u001b[39mself\u001b[39;49m\u001b[39m.\u001b[39;49mensure_loaded()\n\u001b[0;32m     69\u001b[0m     \u001b[39m# Get the 1-indexed pixel number\u001b[39;00m\n\u001b[0;32m     70\u001b[0m     pixel_number \u001b[39m=\u001b[39m x \u001b[39m+\u001b[39m (y \u001b[39m-\u001b[39m \u001b[39m1\u001b[39m) \u001b[39m*\u001b[39m \u001b[39mself\u001b[39m\u001b[39m.\u001b[39mvalues_per_row\n",
      "File \u001b[1;32mc:\\Users\\Jorge\\AppData\\Local\\Programs\\Python\\Python310\\lib\\site-packages\\srtm\\height_maps.py:43\u001b[0m, in \u001b[0;36mHeightMap.ensure_loaded\u001b[1;34m(self, force)\u001b[0m\n\u001b[0;32m     40\u001b[0m     \u001b[39mreturn\u001b[39;00m\n\u001b[0;32m     42\u001b[0m \u001b[39mif\u001b[39;00m \u001b[39m\"\u001b[39m\u001b[39m.zip\u001b[39m\u001b[39m\"\u001b[39m \u001b[39min\u001b[39;00m \u001b[39mself\u001b[39m\u001b[39m.\u001b[39mpath\u001b[39m.\u001b[39msuffixes:\n\u001b[1;32m---> 43\u001b[0m     zipped_files \u001b[39m=\u001b[39m ZipFile(\u001b[39mself\u001b[39;49m\u001b[39m.\u001b[39;49mpath)\u001b[39m.\u001b[39mnamelist()\n\u001b[0;32m     44\u001b[0m     zipped_files \u001b[39m=\u001b[39m [name \u001b[39mfor\u001b[39;00m name \u001b[39min\u001b[39;00m zipped_files \u001b[39mif\u001b[39;00m \u001b[39m\"\u001b[39m\u001b[39m.hgt\u001b[39m\u001b[39m\"\u001b[39m \u001b[39min\u001b[39;00m name]\n\u001b[0;32m     45\u001b[0m     \u001b[39massert\u001b[39;00m \u001b[39mlen\u001b[39m(zipped_files) \u001b[39m==\u001b[39m \u001b[39m1\u001b[39m, (\n\u001b[0;32m     46\u001b[0m         \u001b[39mf\u001b[39m\u001b[39m\"\u001b[39m\u001b[39mZIP at \u001b[39m\u001b[39m{\u001b[39;00m\u001b[39mself\u001b[39m\u001b[39m.\u001b[39mpath\u001b[39m}\u001b[39;00m\u001b[39m contains the wrong number of hgt files \u001b[39m\u001b[39m\"\u001b[39m\n\u001b[0;32m     47\u001b[0m         \u001b[39mf\u001b[39m\u001b[39m\"\u001b[39m\u001b[39m(\u001b[39m\u001b[39m{\u001b[39;00m\u001b[39mlen\u001b[39m(zipped_files)\u001b[39m}\u001b[39;00m\u001b[39m!=1). Contains \u001b[39m\u001b[39m{\u001b[39;00mzipped_files\u001b[39m}\u001b[39;00m\u001b[39m\"\u001b[39m\n\u001b[0;32m     48\u001b[0m     )\n",
      "File \u001b[1;32mc:\\Users\\Jorge\\AppData\\Local\\Programs\\Python\\Python310\\lib\\zipfile.py:1249\u001b[0m, in \u001b[0;36mZipFile.__init__\u001b[1;34m(self, file, mode, compression, allowZip64, compresslevel, strict_timestamps)\u001b[0m\n\u001b[0;32m   1247\u001b[0m \u001b[39mwhile\u001b[39;00m \u001b[39mTrue\u001b[39;00m:\n\u001b[0;32m   1248\u001b[0m     \u001b[39mtry\u001b[39;00m:\n\u001b[1;32m-> 1249\u001b[0m         \u001b[39mself\u001b[39m\u001b[39m.\u001b[39mfp \u001b[39m=\u001b[39m io\u001b[39m.\u001b[39;49mopen(file, filemode)\n\u001b[0;32m   1250\u001b[0m     \u001b[39mexcept\u001b[39;00m \u001b[39mOSError\u001b[39;00m:\n\u001b[0;32m   1251\u001b[0m         \u001b[39mif\u001b[39;00m filemode \u001b[39min\u001b[39;00m modeDict:\n",
      "\u001b[1;31mFileNotFoundError\u001b[0m: [Errno 2] No such file or directory: 'TopographyData\\\\N04W076.SRTMGL1.hgt.zip'"
     ]
    }
   ],
   "source": [
    "path = \"C:/Users/Jorge/Desktop/PruebaMuysc/TopographyData\"\n",
    "P1 = [4.492298, -75.381092]\n",
    "RefPoint = [4.487717, -75.387880]\n",
    "regionPoints = [4.466944, 4.500833,-75.370000,  -75.404720, \"CERRO MACHÍN\"]\n",
    "cenit = [-10, 20,50]\n",
    "azimut = [-10,22,50]\n",
    "\n",
    "# Inicializar la clase de mute\n",
    "a = Muysc.Mute(regionPoints,80,srtm1_data,\"jet\")\n",
    "\n",
    "# Indicar la ruta donde se guardaran los datos descargados .zip\n",
    "a.downloadData(path)\n",
    "a.elevation()\n",
    "a.pointView(P1,RefPoint)\n",
    "a.plot_lines(cenit,azimut)  \n",
    "\n",
    "# Mapa de distancias\n",
    "a.show_distances()\n",
    "\n",
    "# Mostrar sección transversal\n",
    "a.section()\n",
    "\n",
    "# Guardar .dat del mapa de distancias\n",
    "a.save_data(\"Prueba4\")\n",
    "\n",
    "# Generación del flujo de muones\n",
    "a.IntegratedFlux()"
   ]
  }
 ],
 "metadata": {
  "kernelspec": {
   "display_name": "Python 3.10.6 64-bit",
   "language": "python",
   "name": "python3"
  },
  "language_info": {
   "codemirror_mode": {
    "name": "ipython",
    "version": 3
   },
   "file_extension": ".py",
   "mimetype": "text/x-python",
   "name": "python",
   "nbconvert_exporter": "python",
   "pygments_lexer": "ipython3",
   "version": "3.10.6"
  },
  "orig_nbformat": 4,
  "vscode": {
   "interpreter": {
    "hash": "04c99251120b9783bb57db04925b02d6d9a65330f6ca271b364357389b908c1b"
   }
  }
 },
 "nbformat": 4,
 "nbformat_minor": 2
}
