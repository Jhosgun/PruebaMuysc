{
 "cells": [
  {
   "cell_type": "code",
   "execution_count": null,
   "metadata": {},
   "outputs": [],
   "source": [
    "# Importación de librerías\n",
    "\n",
    "import Muysc\n",
    "import numpy as np\n",
    "import math\n",
    "import matplotlib.pyplot as plt\n",
    "from matplotlib import cm\n",
    "from matplotlib.ticker import MaxNLocator\n",
    "from scipy import signal\n",
    "import matplotlib as mpl\n",
    "from srtm import Srtm1HeightMapCollection\n",
    "srtm1_data = Srtm1HeightMapCollection()"
   ]
  },
  {
   "cell_type": "code",
   "execution_count": null,
   "metadata": {},
   "outputs": [],
   "source": [
    "!export SRTM1_DIR=/home/jorge/Desktop/PruebaMuysc/TopographyData\n"
   ]
  },
  {
   "cell_type": "code",
   "execution_count": null,
   "metadata": {},
   "outputs": [],
   "source": [
    "P1 = [4.492298, -75.381092]\n",
    "RefPoint = [4.487717, -75.387880]\n",
    "regionPoints = [4.466944, 4.500833,-75.370000,  -75.404720, \"CERRO MACHÍN\"]\n",
    "cenit = [-10, 20,50]\n",
    "azimut = [-10,22,50]\n",
    "\n",
    "# Inicializar la clase de mute\n",
    "a = Muysc.Mute(regionPoints,80,srtm1_data,\"jet\")\n",
    "\n",
    "# Indicar la ruta donde se guardaran los datos descargados .zip\n",
    "a.pointView(P1,RefPoint)\n",
    "a.plot_lines(cenit,azimut)  \n",
    "\n",
    "# Mapa de distancias\n",
    "a.show_distances()\n",
    "\n",
    "# Mostrar sección transversal\n",
    "a.section()\n",
    "\n",
    "# Guardar .dat del mapa de distancias\n",
    "a.save_data(\"Prueba4\")\n",
    "\n",
    "# Generación del flujo de muones\n",
    "a.IntegratedFlux()"
   ]
  }
 ],
 "metadata": {
  "kernelspec": {
   "display_name": "Python 3.10.4 64-bit",
   "language": "python",
   "name": "python3"
  },
  "language_info": {
   "codemirror_mode": {
    "name": "ipython",
    "version": 3
   },
   "file_extension": ".py",
   "mimetype": "text/x-python",
   "name": "python",
   "nbconvert_exporter": "python",
   "pygments_lexer": "ipython3",
   "version": "3.10.4"
  },
  "orig_nbformat": 4,
  "vscode": {
   "interpreter": {
    "hash": "916dbcbb3f70747c44a77c7bcd40155683ae19c65e1c03b4aa3499c5328201f1"
   }
  }
 },
 "nbformat": 4,
 "nbformat_minor": 2
}
